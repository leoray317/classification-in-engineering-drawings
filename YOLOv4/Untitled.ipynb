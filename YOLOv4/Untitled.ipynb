{
 "cells": [
  {
   "cell_type": "code",
   "execution_count": 3,
   "metadata": {},
   "outputs": [
    {
     "name": "stdout",
     "output_type": "stream",
     "text": [
      "G:\\我的雲端硬碟\\NTU\\NN\\report\\YOLOv4\\darknet\n"
     ]
    }
   ],
   "source": [
    "%cd darknet"
   ]
  },
  {
   "cell_type": "code",
   "execution_count": 7,
   "metadata": {},
   "outputs": [
    {
     "name": "stderr",
     "output_type": "stream",
     "text": [
      "'.' 不是內部或外部命令、可執行的程式或批次檔。\n"
     ]
    }
   ],
   "source": [
    "MODEL = 'YOLOv4'\n",
    "\n",
    "FIRST_TIME = True\n",
    "\n",
    "\n",
    "if FIRST_TIME:\n",
    "    !./darknet detector train G:\\我的雲端硬碟\\NTU\\NN\\report\\YOLOv4\\darknet\\obj.data G:\\我的雲端硬碟\\NTU\\NN\\report\\YOLOv4\\darknet\\yolov4.cfg yolov4.conv.137 -dont_show -map -chart chart.png\n",
    "else:\n",
    "    !./darknet detector train G:\\我的雲端硬碟\\NTU\\NN\\report\\YOLOv4\\darknet\\yolov4.cfg G:\\我的雲端硬碟\\NTU\\NN\\report\\YOLOv4\\darknet\\yolov4_last.weights -dont_show -map -chart chart.png\n"
   ]
  },
  {
   "cell_type": "code",
   "execution_count": null,
   "metadata": {},
   "outputs": [],
   "source": []
  }
 ],
 "metadata": {
  "kernelspec": {
   "display_name": "Python 3",
   "language": "python",
   "name": "python3"
  },
  "language_info": {
   "codemirror_mode": {
    "name": "ipython",
    "version": 3
   },
   "file_extension": ".py",
   "mimetype": "text/x-python",
   "name": "python",
   "nbconvert_exporter": "python",
   "pygments_lexer": "ipython3",
   "version": "3.7.5"
  }
 },
 "nbformat": 4,
 "nbformat_minor": 4
}
