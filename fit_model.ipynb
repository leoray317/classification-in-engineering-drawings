{
 "cells": [
  {
   "cell_type": "code",
   "execution_count": 1,
   "metadata": {},
   "outputs": [
    {
     "name": "stderr",
     "output_type": "stream",
     "text": [
      "Using TensorFlow backend.\n",
      "c:\\users\\user\\appdata\\local\\programs\\python\\python37\\lib\\site-packages\\tensorflow\\python\\framework\\dtypes.py:516: FutureWarning: Passing (type, 1) or '1type' as a synonym of type is deprecated; in a future version of numpy, it will be understood as (type, (1,)) / '(1,)type'.\n",
      "  _np_qint8 = np.dtype([(\"qint8\", np.int8, 1)])\n",
      "c:\\users\\user\\appdata\\local\\programs\\python\\python37\\lib\\site-packages\\tensorflow\\python\\framework\\dtypes.py:517: FutureWarning: Passing (type, 1) or '1type' as a synonym of type is deprecated; in a future version of numpy, it will be understood as (type, (1,)) / '(1,)type'.\n",
      "  _np_quint8 = np.dtype([(\"quint8\", np.uint8, 1)])\n",
      "c:\\users\\user\\appdata\\local\\programs\\python\\python37\\lib\\site-packages\\tensorflow\\python\\framework\\dtypes.py:518: FutureWarning: Passing (type, 1) or '1type' as a synonym of type is deprecated; in a future version of numpy, it will be understood as (type, (1,)) / '(1,)type'.\n",
      "  _np_qint16 = np.dtype([(\"qint16\", np.int16, 1)])\n",
      "c:\\users\\user\\appdata\\local\\programs\\python\\python37\\lib\\site-packages\\tensorflow\\python\\framework\\dtypes.py:519: FutureWarning: Passing (type, 1) or '1type' as a synonym of type is deprecated; in a future version of numpy, it will be understood as (type, (1,)) / '(1,)type'.\n",
      "  _np_quint16 = np.dtype([(\"quint16\", np.uint16, 1)])\n",
      "c:\\users\\user\\appdata\\local\\programs\\python\\python37\\lib\\site-packages\\tensorflow\\python\\framework\\dtypes.py:520: FutureWarning: Passing (type, 1) or '1type' as a synonym of type is deprecated; in a future version of numpy, it will be understood as (type, (1,)) / '(1,)type'.\n",
      "  _np_qint32 = np.dtype([(\"qint32\", np.int32, 1)])\n",
      "c:\\users\\user\\appdata\\local\\programs\\python\\python37\\lib\\site-packages\\tensorflow\\python\\framework\\dtypes.py:525: FutureWarning: Passing (type, 1) or '1type' as a synonym of type is deprecated; in a future version of numpy, it will be understood as (type, (1,)) / '(1,)type'.\n",
      "  np_resource = np.dtype([(\"resource\", np.ubyte, 1)])\n",
      "c:\\users\\user\\appdata\\local\\programs\\python\\python37\\lib\\site-packages\\tensorboard\\compat\\tensorflow_stub\\dtypes.py:541: FutureWarning: Passing (type, 1) or '1type' as a synonym of type is deprecated; in a future version of numpy, it will be understood as (type, (1,)) / '(1,)type'.\n",
      "  _np_qint8 = np.dtype([(\"qint8\", np.int8, 1)])\n",
      "c:\\users\\user\\appdata\\local\\programs\\python\\python37\\lib\\site-packages\\tensorboard\\compat\\tensorflow_stub\\dtypes.py:542: FutureWarning: Passing (type, 1) or '1type' as a synonym of type is deprecated; in a future version of numpy, it will be understood as (type, (1,)) / '(1,)type'.\n",
      "  _np_quint8 = np.dtype([(\"quint8\", np.uint8, 1)])\n",
      "c:\\users\\user\\appdata\\local\\programs\\python\\python37\\lib\\site-packages\\tensorboard\\compat\\tensorflow_stub\\dtypes.py:543: FutureWarning: Passing (type, 1) or '1type' as a synonym of type is deprecated; in a future version of numpy, it will be understood as (type, (1,)) / '(1,)type'.\n",
      "  _np_qint16 = np.dtype([(\"qint16\", np.int16, 1)])\n",
      "c:\\users\\user\\appdata\\local\\programs\\python\\python37\\lib\\site-packages\\tensorboard\\compat\\tensorflow_stub\\dtypes.py:544: FutureWarning: Passing (type, 1) or '1type' as a synonym of type is deprecated; in a future version of numpy, it will be understood as (type, (1,)) / '(1,)type'.\n",
      "  _np_quint16 = np.dtype([(\"quint16\", np.uint16, 1)])\n",
      "c:\\users\\user\\appdata\\local\\programs\\python\\python37\\lib\\site-packages\\tensorboard\\compat\\tensorflow_stub\\dtypes.py:545: FutureWarning: Passing (type, 1) or '1type' as a synonym of type is deprecated; in a future version of numpy, it will be understood as (type, (1,)) / '(1,)type'.\n",
      "  _np_qint32 = np.dtype([(\"qint32\", np.int32, 1)])\n",
      "c:\\users\\user\\appdata\\local\\programs\\python\\python37\\lib\\site-packages\\tensorboard\\compat\\tensorflow_stub\\dtypes.py:550: FutureWarning: Passing (type, 1) or '1type' as a synonym of type is deprecated; in a future version of numpy, it will be understood as (type, (1,)) / '(1,)type'.\n",
      "  np_resource = np.dtype([(\"resource\", np.ubyte, 1)])\n"
     ]
    }
   ],
   "source": [
    "from keras.preprocessing.image import ImageDataGenerator\n",
    "import matplotlib.pyplot as plt\n",
    "import numpy as np\n",
    "import cv2\n",
    "# y 值轉成 one-hot encoding\n",
    "from keras.utils import to_categorical"
   ]
  },
  {
   "cell_type": "code",
   "execution_count": 54,
   "metadata": {},
   "outputs": [
    {
     "name": "stdout",
     "output_type": "stream",
     "text": [
      "複製完成\n"
     ]
    }
   ],
   "source": [
    "import os, shutil\n",
    "\n",
    "# 解壓縮資料夾所在的目錄路徑\n",
    "original_dataset_dir = r'photo1500' \n",
    "# 用來儲存少量資料集的目錄位置\n",
    "base_dir = r'dataset' \n",
    "if not os.path.isdir(base_dir): os.mkdir(base_dir)  # 如果目錄不存在, 才建立目錄\n",
    "\n",
    "# 分拆成訓練、驗證與測試目錄位置\n",
    "train_dir = os.path.join(base_dir, 'train')\n",
    "if not os.path.isdir(train_dir): os.mkdir(train_dir)\n",
    "\n",
    "validation_dir = os.path.join(base_dir, 'validation')  \n",
    "if not os.path.isdir(validation_dir): os.mkdir(validation_dir)\n",
    "    \n",
    "test_dir = os.path.join(base_dir, 'test')\n",
    "if not os.path.isdir(test_dir): os.mkdir(test_dir)\n",
    "\n",
    "\n",
    "# 複製前面 1000 張貓圖片到 train_dir 訓練目錄\n",
    "fnames = ['{}.jpg'.format(i) for i in range(1100)]\n",
    "for fname in fnames:\n",
    "    src = os.path.join(original_dataset_dir, fname)\n",
    "    dst = os.path.join(train_dir, fname)\n",
    "    shutil.copyfile(src, dst)\n",
    "\n",
    "# 複製下 500 張貓圖片到 validation_dir 驗證目錄\n",
    "fnames = ['{}.jpg'.format(i) for i in range(1100, 1450)]\n",
    "for fname in fnames:\n",
    "    src = os.path.join(original_dataset_dir, fname)\n",
    "    dst = os.path.join(validation_dir, fname)\n",
    "    shutil.copyfile(src, dst)\n",
    "\n",
    "# 複製下 500 張貓圖片到 test_dir 測試目錄\n",
    "fnames = ['{}.jpg'.format(i) for i in range(1450, 1749)]\n",
    "for fname in fnames:\n",
    "    src = os.path.join(original_dataset_dir, fname)\n",
    "    dst = os.path.join(test_dir, fname)\n",
    "    shutil.copyfile(src, dst)\n",
    "\n",
    "print('複製完成')"
   ]
  },
  {
   "cell_type": "code",
   "execution_count": 2,
   "metadata": {},
   "outputs": [],
   "source": [
    "train_dir = 'dataset/train'\n",
    "v_dir = 'dataset/validation'"
   ]
  },
  {
   "cell_type": "code",
   "execution_count": 3,
   "metadata": {},
   "outputs": [],
   "source": [
    "from keras.preprocessing import image\n",
    "i=0\n",
    "x_train = []\n",
    "for num in range(1100):\n",
    "    img_path = train_dir+'/'+str(num)+'.jpg'\n",
    "\n",
    "    img = image.load_img(img_path, target_size=(150, 150))\n",
    "\n",
    "    x = image.img_to_array(img)\n",
    "    i+=1\n",
    "    x_train.append(x)"
   ]
  },
  {
   "cell_type": "code",
   "execution_count": 4,
   "metadata": {},
   "outputs": [],
   "source": [
    "i=0\n",
    "x_test = []\n",
    "for num in range(1100,1450):\n",
    "    img_path = v_dir+'/'+str(num)+'.jpg'\n",
    "\n",
    "    img = image.load_img(img_path, target_size=(150, 150))\n",
    "\n",
    "    x = image.img_to_array(img)\n",
    "    i+=1\n",
    "    x_test.append(x)"
   ]
  },
  {
   "cell_type": "code",
   "execution_count": 5,
   "metadata": {},
   "outputs": [],
   "source": [
    "import pandas as pd\n",
    "df = pd.read_csv('label_all.csv')\n",
    "y_train=[]\n",
    "y_test = []\n",
    "for i in range(1100):\n",
    "    y_train.append(df.values[i][1])\n",
    "    \n",
    "for i in range(1100,1450):\n",
    "    y_test.append(df.values[i][1])"
   ]
  },
  {
   "cell_type": "code",
   "execution_count": 6,
   "metadata": {},
   "outputs": [],
   "source": [
    "num_classes = 243\n",
    "# y 值轉成 one-hot encoding\n",
    "y_train =to_categorical(y_train, num_classes)\n",
    "y_test = to_categorical(y_test, num_classes)"
   ]
  },
  {
   "cell_type": "code",
   "execution_count": 7,
   "metadata": {},
   "outputs": [
    {
     "data": {
      "image/png": "[encoded data removed]",
      "text/plain": [
       "<PIL.Image.Image image mode=RGB size=150x150 at 0x26BFF280188>"
      ]
     },
     "execution_count": 7,
     "metadata": {},
     "output_type": "execute_result"
    }
   ],
   "source": [
    "image.array_to_img(x_train[100])"
   ]
  },
  {
   "cell_type": "code",
   "execution_count": 8,
   "metadata": {},
   "outputs": [
    {
     "data": {
      "text/plain": [
       "(350, 243)"
      ]
     },
     "execution_count": 8,
     "metadata": {},
     "output_type": "execute_result"
    }
   ],
   "source": [
    "x_train = np.array(x_train)\n",
    "x_test = np.array(x_test)\n",
    "y_train = np.array(y_train)\n",
    "y_test = np.array(y_test)\n",
    "y_test.shape"
   ]
  },
  {
   "cell_type": "code",
   "execution_count": 9,
   "metadata": {},
   "outputs": [],
   "source": [
    "from keras import backend as K\n",
    "img_rows, img_cols = 150, 150\n",
    "# channels_first: 色彩通道(R/G/B)資料(深度)放在第2維度，第3、4維度放置寬與高\n",
    "if K.image_data_format() == 'channels_first':\n",
    "    x_train = x_train.reshape(x_train.shape[0], 1, img_rows, img_cols)\n",
    "    x_test = x_test.reshape(x_test.shape[0], 1, img_rows, img_cols)\n",
    "    input_shape = (1, img_rows, img_cols)\n",
    "else: # channels_last: 色彩通道(R/G/B)資料(深度)放在第4維度，第2、3維度放置寬與高\n",
    "    x_train = x_train.reshape(x_train.shape[0], img_rows, img_cols, 3)\n",
    "    x_test = x_test.reshape(x_test.shape[0], img_rows, img_cols, 3)\n",
    "    input_shape = (img_rows, img_cols, 3)\n",
    "\n",
    "# 轉換色彩 0~255 資料為 0~1\n",
    "x_train = x_train.astype('float32')\n",
    "x_test = x_test.astype('float32')\n",
    "x_train /= 255\n",
    "x_test /= 255"
   ]
  },
  {
   "cell_type": "code",
   "execution_count": 10,
   "metadata": {},
   "outputs": [
    {
     "name": "stdout",
     "output_type": "stream",
     "text": [
      "WARNING:tensorflow:From c:\\users\\user\\appdata\\local\\programs\\python\\python37\\lib\\site-packages\\keras\\backend\\tensorflow_backend.py:66: The name tf.get_default_graph is deprecated. Please use tf.compat.v1.get_default_graph instead.\n",
      "\n",
      "WARNING:tensorflow:From c:\\users\\user\\appdata\\local\\programs\\python\\python37\\lib\\site-packages\\keras\\backend\\tensorflow_backend.py:541: The name tf.placeholder is deprecated. Please use tf.compat.v1.placeholder instead.\n",
      "\n",
      "WARNING:tensorflow:From c:\\users\\user\\appdata\\local\\programs\\python\\python37\\lib\\site-packages\\keras\\backend\\tensorflow_backend.py:4432: The name tf.random_uniform is deprecated. Please use tf.random.uniform instead.\n",
      "\n",
      "WARNING:tensorflow:From c:\\users\\user\\appdata\\local\\programs\\python\\python37\\lib\\site-packages\\keras\\backend\\tensorflow_backend.py:4267: The name tf.nn.max_pool is deprecated. Please use tf.nn.max_pool2d instead.\n",
      "\n",
      "Model: \"sequential_1\"\n",
      "_________________________________________________________________\n",
      "Layer (type)                 Output Shape              Param #   \n",
      "=================================================================\n",
      "conv2d_1 (Conv2D)            (None, 298, 298, 32)      896       \n",
      "_________________________________________________________________\n",
      "max_pooling2d_1 (MaxPooling2 (None, 149, 149, 32)      0         \n",
      "_________________________________________________________________\n",
      "conv2d_2 (Conv2D)            (None, 147, 147, 64)      18496     \n",
      "_________________________________________________________________\n",
      "max_pooling2d_2 (MaxPooling2 (None, 73, 73, 64)        0         \n",
      "_________________________________________________________________\n",
      "conv2d_3 (Conv2D)            (None, 71, 71, 128)       73856     \n",
      "_________________________________________________________________\n",
      "max_pooling2d_3 (MaxPooling2 (None, 35, 35, 128)       0         \n",
      "_________________________________________________________________\n",
      "conv2d_4 (Conv2D)            (None, 33, 33, 128)       147584    \n",
      "_________________________________________________________________\n",
      "max_pooling2d_4 (MaxPooling2 (None, 16, 16, 128)       0         \n",
      "_________________________________________________________________\n",
      "flatten_1 (Flatten)          (None, 32768)             0         \n",
      "_________________________________________________________________\n",
      "dense_1 (Dense)              (None, 512)               16777728  \n",
      "_________________________________________________________________\n",
      "dense_2 (Dense)              (None, 1)                 513       \n",
      "=================================================================\n",
      "Total params: 17,019,073\n",
      "Trainable params: 17,019,073\n",
      "Non-trainable params: 0\n",
      "_________________________________________________________________\n"
     ]
    }
   ],
   "source": [
    "from keras import layers\n",
    "from keras import models\n",
    "\n",
    "model = models.Sequential()\n",
    "model.add(layers.Conv2D(32, (3, 3), activation='relu',\n",
    "                        input_shape=(300, 300, 3)))\n",
    "model.add(layers.MaxPooling2D((2, 2)))\n",
    "model.add(layers.Conv2D(64, (3, 3), activation='relu'))\n",
    "model.add(layers.MaxPooling2D((2, 2)))\n",
    "model.add(layers.Conv2D(128, (3, 3), activation='relu'))\n",
    "model.add(layers.MaxPooling2D((2, 2)))\n",
    "model.add(layers.Conv2D(128, (3, 3), activation='relu'))\n",
    "model.add(layers.MaxPooling2D((2, 2)))\n",
    "model.add(layers.Flatten())\n",
    "model.add(layers.Dense(512, activation='relu'))\n",
    "model.add(layers.Dense(1, activation='sigmoid'))\n",
    "model.summary()  # 查看模型摘要"
   ]
  },
  {
   "cell_type": "code",
   "execution_count": 11,
   "metadata": {},
   "outputs": [
    {
     "name": "stdout",
     "output_type": "stream",
     "text": [
      "WARNING:tensorflow:From c:\\users\\user\\appdata\\local\\programs\\python\\python37\\lib\\site-packages\\keras\\optimizers.py:793: The name tf.train.Optimizer is deprecated. Please use tf.compat.v1.train.Optimizer instead.\n",
      "\n"
     ]
    }
   ],
   "source": [
    "from keras import optimizers\n",
    "#model.compile(loss='sparse_categorical_crossentropy',\n",
    "#              optimizer=optimizers.RMSprop(lr=1e-4),\n",
    "#              metrics=['acc'])\n",
    "model.compile(loss='MSE',\n",
    "              optimizer=optimizers.RMSprop(lr=1e-4),\n",
    "              metrics=['MSE'])"
   ]
  },
  {
   "cell_type": "code",
   "execution_count": 27,
   "metadata": {},
   "outputs": [
    {
     "ename": "ValueError",
     "evalue": "Error when checking target: expected dense_2 to have shape (1,) but got array with shape (243,)",
     "output_type": "error",
     "traceback": [
      "\u001b[1;31m---------------------------------------------------------------------------\u001b[0m",
      "\u001b[1;31mValueError\u001b[0m                                Traceback (most recent call last)",
      "\u001b[1;32m<ipython-input-27-4397d26a492a>\u001b[0m in \u001b[0;36m<module>\u001b[1;34m\u001b[0m\n\u001b[0;32m      3\u001b[0m           \u001b[0mepochs\u001b[0m\u001b[1;33m=\u001b[0m\u001b[1;36m10\u001b[0m\u001b[1;33m,\u001b[0m\u001b[1;33m\u001b[0m\u001b[1;33m\u001b[0m\u001b[0m\n\u001b[0;32m      4\u001b[0m           \u001b[0mverbose\u001b[0m\u001b[1;33m=\u001b[0m\u001b[1;36m1\u001b[0m\u001b[1;33m,\u001b[0m\u001b[1;33m\u001b[0m\u001b[1;33m\u001b[0m\u001b[0m\n\u001b[1;32m----> 5\u001b[1;33m           validation_data=(x_test, y_test))\n\u001b[0m",
      "\u001b[1;32mc:\\users\\user\\appdata\\local\\programs\\python\\python37\\lib\\site-packages\\keras\\engine\\training.py\u001b[0m in \u001b[0;36mfit\u001b[1;34m(self, x, y, batch_size, epochs, verbose, callbacks, validation_split, validation_data, shuffle, class_weight, sample_weight, initial_epoch, steps_per_epoch, validation_steps, validation_freq, max_queue_size, workers, use_multiprocessing, **kwargs)\u001b[0m\n\u001b[0;32m   1087\u001b[0m             \u001b[0msample_weight\u001b[0m\u001b[1;33m=\u001b[0m\u001b[0msample_weight\u001b[0m\u001b[1;33m,\u001b[0m\u001b[1;33m\u001b[0m\u001b[1;33m\u001b[0m\u001b[0m\n\u001b[0;32m   1088\u001b[0m             \u001b[0mclass_weight\u001b[0m\u001b[1;33m=\u001b[0m\u001b[0mclass_weight\u001b[0m\u001b[1;33m,\u001b[0m\u001b[1;33m\u001b[0m\u001b[1;33m\u001b[0m\u001b[0m\n\u001b[1;32m-> 1089\u001b[1;33m             batch_size=batch_size)\n\u001b[0m\u001b[0;32m   1090\u001b[0m \u001b[1;33m\u001b[0m\u001b[0m\n\u001b[0;32m   1091\u001b[0m         \u001b[1;31m# Prepare validation data.\u001b[0m\u001b[1;33m\u001b[0m\u001b[1;33m\u001b[0m\u001b[1;33m\u001b[0m\u001b[0m\n",
      "\u001b[1;32mc:\\users\\user\\appdata\\local\\programs\\python\\python37\\lib\\site-packages\\keras\\engine\\training.py\u001b[0m in \u001b[0;36m_standardize_user_data\u001b[1;34m(self, x, y, sample_weight, class_weight, check_array_lengths, batch_size)\u001b[0m\n\u001b[0;32m    793\u001b[0m                 \u001b[0mfeed_output_shapes\u001b[0m\u001b[1;33m,\u001b[0m\u001b[1;33m\u001b[0m\u001b[1;33m\u001b[0m\u001b[0m\n\u001b[0;32m    794\u001b[0m                 \u001b[0mcheck_batch_axis\u001b[0m\u001b[1;33m=\u001b[0m\u001b[1;32mFalse\u001b[0m\u001b[1;33m,\u001b[0m  \u001b[1;31m# Don't enforce the batch size.\u001b[0m\u001b[1;33m\u001b[0m\u001b[1;33m\u001b[0m\u001b[0m\n\u001b[1;32m--> 795\u001b[1;33m                 exception_prefix='target')\n\u001b[0m\u001b[0;32m    796\u001b[0m \u001b[1;33m\u001b[0m\u001b[0m\n\u001b[0;32m    797\u001b[0m             \u001b[1;31m# Generate sample-wise weight values given the `sample_weight` and\u001b[0m\u001b[1;33m\u001b[0m\u001b[1;33m\u001b[0m\u001b[1;33m\u001b[0m\u001b[0m\n",
      "\u001b[1;32mc:\\users\\user\\appdata\\local\\programs\\python\\python37\\lib\\site-packages\\keras\\engine\\training_utils.py\u001b[0m in \u001b[0;36mstandardize_input_data\u001b[1;34m(data, names, shapes, check_batch_axis, exception_prefix)\u001b[0m\n\u001b[0;32m    139\u001b[0m                             \u001b[1;34m': expected '\u001b[0m \u001b[1;33m+\u001b[0m \u001b[0mnames\u001b[0m\u001b[1;33m[\u001b[0m\u001b[0mi\u001b[0m\u001b[1;33m]\u001b[0m \u001b[1;33m+\u001b[0m \u001b[1;34m' to have shape '\u001b[0m \u001b[1;33m+\u001b[0m\u001b[1;33m\u001b[0m\u001b[1;33m\u001b[0m\u001b[0m\n\u001b[0;32m    140\u001b[0m                             \u001b[0mstr\u001b[0m\u001b[1;33m(\u001b[0m\u001b[0mshape\u001b[0m\u001b[1;33m)\u001b[0m \u001b[1;33m+\u001b[0m \u001b[1;34m' but got array with shape '\u001b[0m \u001b[1;33m+\u001b[0m\u001b[1;33m\u001b[0m\u001b[1;33m\u001b[0m\u001b[0m\n\u001b[1;32m--> 141\u001b[1;33m                             str(data_shape))\n\u001b[0m\u001b[0;32m    142\u001b[0m     \u001b[1;32mreturn\u001b[0m \u001b[0mdata\u001b[0m\u001b[1;33m\u001b[0m\u001b[1;33m\u001b[0m\u001b[0m\n\u001b[0;32m    143\u001b[0m \u001b[1;33m\u001b[0m\u001b[0m\n",
      "\u001b[1;31mValueError\u001b[0m: Error when checking target: expected dense_2 to have shape (1,) but got array with shape (243,)"
     ]
    }
   ],
   "source": [
    "train_history = model.fit(x_train, y_train,\n",
    "          batch_size=20,\n",
    "          epochs=10,\n",
    "          verbose=1,\n",
    "          validation_data=(x_test, y_test))"
   ]
  },
  {
   "cell_type": "code",
   "execution_count": 10,
   "metadata": {},
   "outputs": [
    {
     "name": "stdout",
     "output_type": "stream",
     "text": [
      "WARNING:tensorflow:From c:\\users\\user\\appdata\\local\\programs\\python\\python37\\lib\\site-packages\\keras\\backend\\tensorflow_backend.py:66: The name tf.get_default_graph is deprecated. Please use tf.compat.v1.get_default_graph instead.\n",
      "\n",
      "WARNING:tensorflow:From c:\\users\\user\\appdata\\local\\programs\\python\\python37\\lib\\site-packages\\keras\\backend\\tensorflow_backend.py:541: The name tf.placeholder is deprecated. Please use tf.compat.v1.placeholder instead.\n",
      "\n",
      "WARNING:tensorflow:From c:\\users\\user\\appdata\\local\\programs\\python\\python37\\lib\\site-packages\\keras\\backend\\tensorflow_backend.py:4432: The name tf.random_uniform is deprecated. Please use tf.random.uniform instead.\n",
      "\n",
      "WARNING:tensorflow:From c:\\users\\user\\appdata\\local\\programs\\python\\python37\\lib\\site-packages\\keras\\backend\\tensorflow_backend.py:4267: The name tf.nn.max_pool is deprecated. Please use tf.nn.max_pool2d instead.\n",
      "\n",
      "WARNING:tensorflow:From c:\\users\\user\\appdata\\local\\programs\\python\\python37\\lib\\site-packages\\keras\\backend\\tensorflow_backend.py:148: The name tf.placeholder_with_default is deprecated. Please use tf.compat.v1.placeholder_with_default instead.\n",
      "\n",
      "WARNING:tensorflow:From c:\\users\\user\\appdata\\local\\programs\\python\\python37\\lib\\site-packages\\keras\\backend\\tensorflow_backend.py:3733: calling dropout (from tensorflow.python.ops.nn_ops) with keep_prob is deprecated and will be removed in a future version.\n",
      "Instructions for updating:\n",
      "Please use `rate` instead of `keep_prob`. Rate should be set to `rate = 1 - keep_prob`.\n",
      "WARNING:tensorflow:From c:\\users\\user\\appdata\\local\\programs\\python\\python37\\lib\\site-packages\\keras\\optimizers.py:793: The name tf.train.Optimizer is deprecated. Please use tf.compat.v1.train.Optimizer instead.\n",
      "\n",
      "WARNING:tensorflow:From c:\\users\\user\\appdata\\local\\programs\\python\\python37\\lib\\site-packages\\keras\\backend\\tensorflow_backend.py:3576: The name tf.log is deprecated. Please use tf.math.log instead.\n",
      "\n",
      "Model: \"sequential_1\"\n",
      "_________________________________________________________________\n",
      "Layer (type)                 Output Shape              Param #   \n",
      "=================================================================\n",
      "conv2d_1 (Conv2D)            (None, 148, 148, 32)      896       \n",
      "_________________________________________________________________\n",
      "max_pooling2d_1 (MaxPooling2 (None, 74, 74, 32)        0         \n",
      "_________________________________________________________________\n",
      "conv2d_2 (Conv2D)            (None, 72, 72, 64)        18496     \n",
      "_________________________________________________________________\n",
      "max_pooling2d_2 (MaxPooling2 (None, 36, 36, 64)        0         \n",
      "_________________________________________________________________\n",
      "dropout_1 (Dropout)          (None, 36, 36, 64)        0         \n",
      "_________________________________________________________________\n",
      "flatten_1 (Flatten)          (None, 82944)             0         \n",
      "_________________________________________________________________\n",
      "dense_1 (Dense)              (None, 128)               10616960  \n",
      "_________________________________________________________________\n",
      "dropout_2 (Dropout)          (None, 128)               0         \n",
      "_________________________________________________________________\n",
      "dense_2 (Dense)              (None, 243)               31347     \n",
      "=================================================================\n",
      "Total params: 10,667,699\n",
      "Trainable params: 10,667,699\n",
      "Non-trainable params: 0\n",
      "_________________________________________________________________\n"
     ]
    }
   ],
   "source": [
    "from keras.layers import Conv2D,Dropout,Dense,MaxPooling2D,Flatten\n",
    "from keras.models import Sequential\n",
    "from keras import optimizers\n",
    "# 建立簡單的線性執行的模型\n",
    "model = Sequential()\n",
    "# 建立卷積層，filter=32,即 output space 的深度, Kernal Size: 3x3, activation function 採用 relu\n",
    "model.add(Conv2D(32, kernel_size=(3, 3),\n",
    "                 activation='relu',\n",
    "                 input_shape=input_shape))\n",
    "model.add(MaxPooling2D(pool_size=(2, 2)))\n",
    "# 建立卷積層，filter=64,即 output size, Kernal Size: 3x3, activation function 採用 relu\n",
    "model.add(Conv2D(64, (3, 3), activation='relu'))\n",
    "# 建立池化層，池化大小=2x2，取最大值\n",
    "model.add(MaxPooling2D(pool_size=(2, 2)))\n",
    "# Dropout層隨機斷開輸入神經元，用於防止過度擬合，斷開比例:0.25\n",
    "model.add(Dropout(0.25))\n",
    "# Flatten層把多維的輸入一維化，常用在從卷積層到全連接層的過渡。\n",
    "model.add(Flatten())\n",
    "# 全連接層: 128個output\n",
    "model.add(Dense(128, activation='relu'))\n",
    "# Dropout層隨機斷開輸入神經元，用於防止過度擬合，斷開比例:0.5\n",
    "model.add(Dropout(0.5))\n",
    "# 使用 softmax activation function，將結果分類\n",
    "model.add(Dense(num_classes, activation='softmax'))\n",
    "\n",
    "# 編譯: 選擇損失函數、優化方法及成效衡量方式\n",
    "model.compile(loss='categorical_crossentropy',\n",
    "              optimizer=optimizers.Adadelta(),\n",
    "              metrics=['accuracy'])\n",
    "model.summary()"
   ]
  },
  {
   "cell_type": "code",
   "execution_count": 11,
   "metadata": {},
   "outputs": [
    {
     "name": "stdout",
     "output_type": "stream",
     "text": [
      "WARNING:tensorflow:From c:\\users\\user\\appdata\\local\\programs\\python\\python37\\lib\\site-packages\\tensorflow\\python\\ops\\math_grad.py:1250: add_dispatch_support.<locals>.wrapper (from tensorflow.python.ops.array_ops) is deprecated and will be removed in a future version.\n",
      "Instructions for updating:\n",
      "Use tf.where in 2.0, which has the same broadcast rule as np.where\n",
      "Train on 1100 samples, validate on 350 samples\n",
      "Epoch 1/100\n",
      "1100/1100 [==============================] - 5s 4ms/step - loss: 5.2831 - acc: 0.0282 - val_loss: 4.9907 - val_acc: 0.0257\n",
      "Epoch 2/100\n",
      "1100/1100 [==============================] - 2s 2ms/step - loss: 4.5136 - acc: 0.0445 - val_loss: 4.8225 - val_acc: 0.0000e+00\n",
      "Epoch 3/100\n",
      "1100/1100 [==============================] - 2s 2ms/step - loss: 4.2592 - acc: 0.0555 - val_loss: 5.0502 - val_acc: 0.0286\n",
      "Epoch 4/100\n",
      "1100/1100 [==============================] - 2s 2ms/step - loss: 4.0775 - acc: 0.0645 - val_loss: 4.9062 - val_acc: 0.0200\n",
      "Epoch 5/100\n",
      "1100/1100 [==============================] - 2s 2ms/step - loss: 3.9387 - acc: 0.0645 - val_loss: 4.8964 - val_acc: 0.0057\n",
      "Epoch 6/100\n",
      "1100/1100 [==============================] - 2s 2ms/step - loss: 3.7087 - acc: 0.0882 - val_loss: 5.0743 - val_acc: 0.0314\n",
      "Epoch 7/100\n",
      "1100/1100 [==============================] - 2s 2ms/step - loss: 3.4461 - acc: 0.1373 - val_loss: 5.2776 - val_acc: 0.0314\n",
      "Epoch 8/100\n",
      "1100/1100 [==============================] - 2s 2ms/step - loss: 3.1277 - acc: 0.1991 - val_loss: 5.4877 - val_acc: 0.0200\n",
      "Epoch 9/100\n",
      "1100/1100 [==============================] - 2s 2ms/step - loss: 2.7190 - acc: 0.2664 - val_loss: 5.6468 - val_acc: 0.0229\n",
      "Epoch 10/100\n",
      "1100/1100 [==============================] - 2s 2ms/step - loss: 2.3577 - acc: 0.3564 - val_loss: 5.7722 - val_acc: 0.0257\n",
      "Epoch 11/100\n",
      "1100/1100 [==============================] - 2s 2ms/step - loss: 2.0180 - acc: 0.4509 - val_loss: 7.2382 - val_acc: 0.0143\n",
      "Epoch 12/100\n",
      "1100/1100 [==============================] - 2s 2ms/step - loss: 1.6544 - acc: 0.5209 - val_loss: 6.4326 - val_acc: 0.0257\n",
      "Epoch 13/100\n",
      "1100/1100 [==============================] - 2s 2ms/step - loss: 1.3971 - acc: 0.5864 - val_loss: 7.5007 - val_acc: 0.0229\n",
      "Epoch 14/100\n",
      "1100/1100 [==============================] - 2s 2ms/step - loss: 1.2083 - acc: 0.6164 - val_loss: 7.2405 - val_acc: 0.0200\n",
      "Epoch 15/100\n",
      "1100/1100 [==============================] - 2s 2ms/step - loss: 1.0557 - acc: 0.6891 - val_loss: 8.0642 - val_acc: 0.0229\n",
      "Epoch 16/100\n",
      "1100/1100 [==============================] - 2s 2ms/step - loss: 0.8416 - acc: 0.7464 - val_loss: 8.6078 - val_acc: 0.0171\n",
      "Epoch 17/100\n",
      "1100/1100 [==============================] - 2s 2ms/step - loss: 0.7925 - acc: 0.7445 - val_loss: 7.9952 - val_acc: 0.0171\n",
      "Epoch 18/100\n",
      "1100/1100 [==============================] - 2s 2ms/step - loss: 0.7491 - acc: 0.7591 - val_loss: 8.7695 - val_acc: 0.0086\n",
      "Epoch 19/100\n",
      "1100/1100 [==============================] - 2s 2ms/step - loss: 0.6967 - acc: 0.7800 - val_loss: 9.1377 - val_acc: 0.0171\n",
      "Epoch 20/100\n",
      "1100/1100 [==============================] - 2s 2ms/step - loss: 0.6271 - acc: 0.8127 - val_loss: 9.8963 - val_acc: 0.0229\n",
      "Epoch 21/100\n",
      "1100/1100 [==============================] - 2s 2ms/step - loss: 0.5557 - acc: 0.8345 - val_loss: 9.4916 - val_acc: 0.0143\n",
      "Epoch 22/100\n",
      "1100/1100 [==============================] - 2s 2ms/step - loss: 0.5409 - acc: 0.8382 - val_loss: 9.7413 - val_acc: 0.0114\n",
      "Epoch 23/100\n",
      "1100/1100 [==============================] - 2s 2ms/step - loss: 0.5153 - acc: 0.8382 - val_loss: 9.6574 - val_acc: 0.0171\n",
      "Epoch 24/100\n",
      "1100/1100 [==============================] - 2s 2ms/step - loss: 0.4650 - acc: 0.8527 - val_loss: 9.8566 - val_acc: 0.0057\n",
      "Epoch 25/100\n",
      "1100/1100 [==============================] - 2s 2ms/step - loss: 0.4584 - acc: 0.8409 - val_loss: 9.6772 - val_acc: 0.0171\n",
      "Epoch 26/100\n",
      "1100/1100 [==============================] - 2s 2ms/step - loss: 0.4241 - acc: 0.8664 - val_loss: 9.8627 - val_acc: 0.0171\n",
      "Epoch 27/100\n",
      "1100/1100 [==============================] - 2s 2ms/step - loss: 0.3361 - acc: 0.8927 - val_loss: 10.8037 - val_acc: 0.0086\n",
      "Epoch 28/100\n",
      "1100/1100 [==============================] - 2s 2ms/step - loss: 0.3905 - acc: 0.8718 - val_loss: 10.0401 - val_acc: 0.0171\n",
      "Epoch 29/100\n",
      "1100/1100 [==============================] - 2s 2ms/step - loss: 0.3678 - acc: 0.8773 - val_loss: 10.2659 - val_acc: 0.0143\n",
      "Epoch 30/100\n",
      "1100/1100 [==============================] - 2s 2ms/step - loss: 0.3592 - acc: 0.8927 - val_loss: 10.1969 - val_acc: 0.0086\n",
      "Epoch 31/100\n",
      "1100/1100 [==============================] - 2s 2ms/step - loss: 0.3974 - acc: 0.8655 - val_loss: 10.4599 - val_acc: 0.0143\n",
      "Epoch 32/100\n",
      "1100/1100 [==============================] - 2s 2ms/step - loss: 0.3188 - acc: 0.9000 - val_loss: 10.3730 - val_acc: 0.0171\n",
      "Epoch 33/100\n",
      "1100/1100 [==============================] - 2s 2ms/step - loss: 0.2671 - acc: 0.9164 - val_loss: 10.6754 - val_acc: 0.0143\n",
      "Epoch 34/100\n",
      "1100/1100 [==============================] - 2s 2ms/step - loss: 0.2861 - acc: 0.9018 - val_loss: 10.7433 - val_acc: 0.0171\n",
      "Epoch 35/100\n",
      "1100/1100 [==============================] - 2s 2ms/step - loss: 0.2119 - acc: 0.9291 - val_loss: 10.6056 - val_acc: 0.0086\n",
      "Epoch 36/100\n",
      "1100/1100 [==============================] - 2s 2ms/step - loss: 0.2642 - acc: 0.9200 - val_loss: 11.0280 - val_acc: 0.0171\n",
      "Epoch 37/100\n",
      "1100/1100 [==============================] - 2s 2ms/step - loss: 0.3055 - acc: 0.8982 - val_loss: 10.3625 - val_acc: 0.0114\n",
      "Epoch 38/100\n",
      "1100/1100 [==============================] - 2s 2ms/step - loss: 0.2268 - acc: 0.9227 - val_loss: 10.9611 - val_acc: 0.0171\n",
      "Epoch 39/100\n",
      "1100/1100 [==============================] - 2s 2ms/step - loss: 0.2389 - acc: 0.9218 - val_loss: 10.4339 - val_acc: 0.0171\n",
      "Epoch 40/100\n",
      "1100/1100 [==============================] - 2s 2ms/step - loss: 0.2712 - acc: 0.9109 - val_loss: 10.6846 - val_acc: 0.0143\n",
      "Epoch 41/100\n",
      "1100/1100 [==============================] - 2s 2ms/step - loss: 0.2059 - acc: 0.9264 - val_loss: 10.8579 - val_acc: 0.0200\n",
      "Epoch 42/100\n",
      "1100/1100 [==============================] - 2s 2ms/step - loss: 0.2454 - acc: 0.9273 - val_loss: 10.9516 - val_acc: 0.0200\n",
      "Epoch 43/100\n",
      "1100/1100 [==============================] - 2s 2ms/step - loss: 0.2655 - acc: 0.9191 - val_loss: 11.2381 - val_acc: 0.0200\n",
      "Epoch 44/100\n",
      "1100/1100 [==============================] - 2s 2ms/step - loss: 0.1973 - acc: 0.9364 - val_loss: 11.4450 - val_acc: 0.0200\n",
      "Epoch 45/100\n",
      "1100/1100 [==============================] - 2s 2ms/step - loss: 0.1952 - acc: 0.9382 - val_loss: 10.3276 - val_acc: 0.0200\n",
      "Epoch 46/100\n",
      "1100/1100 [==============================] - 2s 2ms/step - loss: 0.2202 - acc: 0.9291 - val_loss: 10.9155 - val_acc: 0.0171\n",
      "Epoch 47/100\n",
      "1100/1100 [==============================] - 2s 2ms/step - loss: 0.2130 - acc: 0.9345 - val_loss: 10.6180 - val_acc: 0.0171\n",
      "Epoch 48/100\n",
      "1100/1100 [==============================] - 2s 2ms/step - loss: 0.2157 - acc: 0.9273 - val_loss: 10.5448 - val_acc: 0.0229\n",
      "Epoch 49/100\n",
      "1100/1100 [==============================] - 2s 2ms/step - loss: 0.2246 - acc: 0.9264 - val_loss: 10.3691 - val_acc: 0.0200\n",
      "Epoch 50/100\n",
      "1100/1100 [==============================] - 2s 2ms/step - loss: 0.1756 - acc: 0.9445 - val_loss: 10.7921 - val_acc: 0.0257\n",
      "Epoch 51/100\n",
      "1100/1100 [==============================] - 2s 2ms/step - loss: 0.1747 - acc: 0.9382 - val_loss: 11.1468 - val_acc: 0.0200\n",
      "Epoch 52/100\n",
      "1100/1100 [==============================] - 2s 2ms/step - loss: 0.1600 - acc: 0.9491 - val_loss: 10.1952 - val_acc: 0.0143\n",
      "Epoch 53/100\n",
      "1100/1100 [==============================] - 2s 2ms/step - loss: 0.1500 - acc: 0.9491 - val_loss: 11.6923 - val_acc: 0.0200\n",
      "Epoch 54/100\n",
      "1100/1100 [==============================] - 2s 2ms/step - loss: 0.1567 - acc: 0.9491 - val_loss: 10.8458 - val_acc: 0.0200\n",
      "Epoch 55/100\n",
      "1100/1100 [==============================] - 2s 2ms/step - loss: 0.1545 - acc: 0.9455 - val_loss: 11.2586 - val_acc: 0.0171\n",
      "Epoch 56/100\n",
      "1100/1100 [==============================] - 2s 2ms/step - loss: 0.1856 - acc: 0.9309 - val_loss: 10.8032 - val_acc: 0.0143\n",
      "Epoch 57/100\n",
      "1100/1100 [==============================] - 2s 2ms/step - loss: 0.1498 - acc: 0.9464 - val_loss: 11.9705 - val_acc: 0.0200\n",
      "Epoch 58/100\n"
     ]
    },
    {
     "name": "stdout",
     "output_type": "stream",
     "text": [
      "1100/1100 [==============================] - 2s 2ms/step - loss: 0.1445 - acc: 0.9591 - val_loss: 11.4059 - val_acc: 0.0086\n",
      "Epoch 59/100\n",
      "1100/1100 [==============================] - 2s 2ms/step - loss: 0.1312 - acc: 0.9455 - val_loss: 11.9025 - val_acc: 0.0229\n",
      "Epoch 60/100\n",
      "1100/1100 [==============================] - 2s 2ms/step - loss: 0.1339 - acc: 0.9464 - val_loss: 11.4741 - val_acc: 0.0171\n",
      "Epoch 61/100\n",
      "1100/1100 [==============================] - 2s 2ms/step - loss: 0.1488 - acc: 0.9455 - val_loss: 10.0382 - val_acc: 0.0200\n",
      "Epoch 62/100\n",
      "1100/1100 [==============================] - 2s 2ms/step - loss: 0.1615 - acc: 0.9364 - val_loss: 10.6949 - val_acc: 0.0171\n",
      "Epoch 63/100\n",
      "1100/1100 [==============================] - 2s 2ms/step - loss: 0.1136 - acc: 0.9691 - val_loss: 12.2005 - val_acc: 0.0114\n",
      "Epoch 64/100\n",
      "1100/1100 [==============================] - 2s 2ms/step - loss: 0.1633 - acc: 0.9445 - val_loss: 10.1494 - val_acc: 0.0200\n",
      "Epoch 65/100\n",
      "1100/1100 [==============================] - 2s 2ms/step - loss: 0.1175 - acc: 0.9618 - val_loss: 11.6488 - val_acc: 0.0200\n",
      "Epoch 66/100\n",
      "1100/1100 [==============================] - 2s 2ms/step - loss: 0.1246 - acc: 0.9573 - val_loss: 10.5625 - val_acc: 0.0229\n",
      "Epoch 67/100\n",
      "1100/1100 [==============================] - 2s 2ms/step - loss: 0.1020 - acc: 0.9673 - val_loss: 11.1982 - val_acc: 0.0200\n",
      "Epoch 68/100\n",
      "1100/1100 [==============================] - 2s 2ms/step - loss: 0.0960 - acc: 0.9664 - val_loss: 13.0798 - val_acc: 0.0143\n",
      "Epoch 69/100\n",
      "1100/1100 [==============================] - 2s 2ms/step - loss: 0.1310 - acc: 0.9564 - val_loss: 11.3233 - val_acc: 0.0257\n",
      "Epoch 70/100\n",
      "1100/1100 [==============================] - 2s 2ms/step - loss: 0.1642 - acc: 0.9500 - val_loss: 10.9556 - val_acc: 0.0171\n",
      "Epoch 71/100\n",
      "1100/1100 [==============================] - 2s 2ms/step - loss: 0.1068 - acc: 0.9627 - val_loss: 12.0083 - val_acc: 0.0114\n",
      "Epoch 72/100\n",
      "1100/1100 [==============================] - 2s 2ms/step - loss: 0.1238 - acc: 0.9591 - val_loss: 11.2538 - val_acc: 0.0143\n",
      "Epoch 73/100\n",
      "1100/1100 [==============================] - 2s 2ms/step - loss: 0.1058 - acc: 0.9600 - val_loss: 11.3639 - val_acc: 0.0171\n",
      "Epoch 74/100\n",
      "1100/1100 [==============================] - 2s 2ms/step - loss: 0.1149 - acc: 0.9636 - val_loss: 10.3023 - val_acc: 0.0171\n",
      "Epoch 75/100\n",
      "1100/1100 [==============================] - 2s 2ms/step - loss: 0.1395 - acc: 0.9536 - val_loss: 11.9711 - val_acc: 0.0229\n",
      "Epoch 76/100\n",
      "1100/1100 [==============================] - 2s 2ms/step - loss: 0.1218 - acc: 0.9591 - val_loss: 11.7728 - val_acc: 0.0143\n",
      "Epoch 77/100\n",
      "1100/1100 [==============================] - 2s 2ms/step - loss: 0.1018 - acc: 0.9645 - val_loss: 11.3554 - val_acc: 0.0143\n",
      "Epoch 78/100\n",
      "1100/1100 [==============================] - 2s 2ms/step - loss: 0.1221 - acc: 0.9609 - val_loss: 12.1126 - val_acc: 0.0143\n",
      "Epoch 79/100\n",
      "1100/1100 [==============================] - 2s 2ms/step - loss: 0.1075 - acc: 0.9636 - val_loss: 11.3803 - val_acc: 0.0229\n",
      "Epoch 80/100\n",
      "1100/1100 [==============================] - 2s 2ms/step - loss: 0.1150 - acc: 0.9618 - val_loss: 11.6316 - val_acc: 0.0171\n",
      "Epoch 81/100\n",
      "1100/1100 [==============================] - 2s 2ms/step - loss: 0.1072 - acc: 0.9700 - val_loss: 11.5466 - val_acc: 0.0229\n",
      "Epoch 82/100\n",
      "1100/1100 [==============================] - 2s 2ms/step - loss: 0.1181 - acc: 0.9664 - val_loss: 11.9442 - val_acc: 0.0229\n",
      "Epoch 83/100\n",
      "1100/1100 [==============================] - 2s 2ms/step - loss: 0.0929 - acc: 0.9745 - val_loss: 12.2834 - val_acc: 0.0229\n",
      "Epoch 84/100\n",
      "1100/1100 [==============================] - 2s 2ms/step - loss: 0.1180 - acc: 0.9645 - val_loss: 11.6685 - val_acc: 0.0171\n",
      "Epoch 85/100\n",
      "1100/1100 [==============================] - 2s 2ms/step - loss: 0.1383 - acc: 0.9591 - val_loss: 11.7463 - val_acc: 0.0143\n",
      "Epoch 86/100\n",
      "1100/1100 [==============================] - 2s 2ms/step - loss: 0.1048 - acc: 0.9609 - val_loss: 12.1857 - val_acc: 0.0200\n",
      "Epoch 87/100\n",
      "1100/1100 [==============================] - 2s 2ms/step - loss: 0.0979 - acc: 0.9700 - val_loss: 12.5989 - val_acc: 0.0286\n",
      "Epoch 88/100\n",
      "1100/1100 [==============================] - 2s 2ms/step - loss: 0.1063 - acc: 0.9682 - val_loss: 13.0454 - val_acc: 0.0200\n",
      "Epoch 89/100\n",
      "1100/1100 [==============================] - 2s 2ms/step - loss: 0.1087 - acc: 0.9673 - val_loss: 12.0369 - val_acc: 0.0200\n",
      "Epoch 90/100\n",
      "1100/1100 [==============================] - 2s 2ms/step - loss: 0.0995 - acc: 0.9618 - val_loss: 11.5323 - val_acc: 0.0143\n",
      "Epoch 91/100\n",
      "1100/1100 [==============================] - 2s 2ms/step - loss: 0.0831 - acc: 0.9718 - val_loss: 10.6051 - val_acc: 0.0143\n",
      "Epoch 92/100\n",
      "1100/1100 [==============================] - 2s 2ms/step - loss: 0.0940 - acc: 0.9691 - val_loss: 12.5059 - val_acc: 0.0200\n",
      "Epoch 93/100\n",
      "1100/1100 [==============================] - 2s 2ms/step - loss: 0.0831 - acc: 0.9636 - val_loss: 12.1509 - val_acc: 0.0114\n",
      "Epoch 94/100\n",
      "1100/1100 [==============================] - 2s 2ms/step - loss: 0.0632 - acc: 0.9800 - val_loss: 12.2210 - val_acc: 0.0171\n",
      "Epoch 95/100\n",
      "1100/1100 [==============================] - 2s 2ms/step - loss: 0.0874 - acc: 0.9664 - val_loss: 11.5351 - val_acc: 0.0143\n",
      "Epoch 96/100\n",
      "1100/1100 [==============================] - 2s 2ms/step - loss: 0.1124 - acc: 0.9609 - val_loss: 11.5458 - val_acc: 0.0143\n",
      "Epoch 97/100\n",
      "1100/1100 [==============================] - 2s 2ms/step - loss: 0.1066 - acc: 0.9655 - val_loss: 11.0059 - val_acc: 0.0143\n",
      "Epoch 98/100\n",
      "1100/1100 [==============================] - 2s 2ms/step - loss: 0.0702 - acc: 0.9736 - val_loss: 12.6279 - val_acc: 0.0086\n",
      "Epoch 99/100\n",
      "1100/1100 [==============================] - 2s 2ms/step - loss: 0.1154 - acc: 0.9582 - val_loss: 11.4113 - val_acc: 0.0143\n",
      "Epoch 100/100\n",
      "1100/1100 [==============================] - 2s 2ms/step - loss: 0.1001 - acc: 0.9645 - val_loss: 10.1506 - val_acc: 0.0114\n"
     ]
    }
   ],
   "source": [
    "\n",
    "# 進行訓練, 訓練過程會存在 train_history 變數中\n",
    "train_history = model.fit(x_train, y_train,\n",
    "          batch_size=20,\n",
    "          epochs=100,\n",
    "          verbose=1,\n",
    "          validation_data=(x_test, y_test))"
   ]
  },
  {
   "cell_type": "code",
   "execution_count": 13,
   "metadata": {},
   "outputs": [
    {
     "data": {
      "image/png": "[encoded data removed]",
      "text/plain": [
       "<Figure size 432x288 with 1 Axes>"
      ]
     },
     "metadata": {
      "needs_background": "light"
     },
     "output_type": "display_data"
    },
    {
     "data": {
      "image/png": "[encoded data removed]",
      "text/plain": [
       "<Figure size 432x288 with 1 Axes>"
      ]
     },
     "metadata": {
      "needs_background": "light"
     },
     "output_type": "display_data"
    }
   ],
   "source": [
    "import matplotlib.pyplot as plt\n",
    "\n",
    "acc = train_history.history['acc']\n",
    "val_acc = train_history.history['val_acc']\n",
    "loss = train_history.history['loss']\n",
    "val_loss = train_history.history['val_loss']\n",
    "\n",
    "epochs = range(1, len(acc) + 1)\n",
    "\n",
    "plt.plot(epochs, acc, 'bo', label='Training acc')\n",
    "plt.plot(epochs, val_acc, 'b', label='Validation acc')\n",
    "plt.title('Training and validation accuracy')\n",
    "plt.legend()\n",
    "\n",
    "plt.figure()\n",
    "\n",
    "plt.plot(epochs, loss, 'bo', label='Training loss')\n",
    "plt.plot(epochs, val_loss, 'b', label='Validation loss')\n",
    "plt.title('Training and validation loss')\n",
    "plt.legend()\n",
    "\n",
    "plt.show()"
   ]
  },
  {
   "cell_type": "code",
   "execution_count": null,
   "metadata": {},
   "outputs": [],
   "source": []
  }
 ],
 "metadata": {
  "kernelspec": {
   "display_name": "Python 3",
   "language": "python",
   "name": "python3"
  },
  "language_info": {
   "codemirror_mode": {
    "name": "ipython",
    "version": 3
   },
   "file_extension": ".py",
   "mimetype": "text/x-python",
   "name": "python",
   "nbconvert_exporter": "python",
   "pygments_lexer": "ipython3",
   "version": "3.7.5"
  }
 },
 "nbformat": 4,
 "nbformat_minor": 4
}
