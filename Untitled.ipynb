{
 "cells": [
  {
   "cell_type": "code",
   "execution_count": 44,
   "metadata": {
    "scrolled": true
   },
   "outputs": [
    {
     "name": "stdout",
     "output_type": "stream",
     "text": [
      "0\n",
      "20\n",
      "21\n",
      "27\n",
      "28\n",
      "29\n",
      "39\n",
      "40\n",
      "42\n",
      "66\n",
      "70\n",
      "71\n",
      "76\n",
      "88\n",
      "99\n",
      "1028\n"
     ]
    }
   ],
   "source": [
    "start = 168\n",
    "f_label = open('YOLOv4/train_path.txt','w')\n",
    "for num_photo in range(101):\n",
    "    try:\n",
    "        f = open('TXT/'+str(num_photo)+'.txt','r')\n",
    "        contant = []\n",
    "        for i in f:\n",
    "            contant.append(i)\n",
    "        for add_txt in range(10):\n",
    "            f_add = open('YOLOv4/train_label/'+str(num_photo+add_txt+start)+'.txt','w')\n",
    "            for i in contant:\n",
    "                f_add.write(i)\n",
    "            f_add.close()\n",
    "            f_label.write('/content/gdrive/MyDrive/NTU/NN/report/YOLOv4/train_label/'+str(num_photo+add_txt+start)+'.jpg\\n')\n",
    "            img = image.load_img('YOLOv4/photo1500/'+str(num_photo+add_txt+start)+'.jpg', target_size=(1500, 1500))\n",
    "            image.save_img('YOLOv4/train_label/'+str(num_photo+add_txt+start)+'.jpg',img,  scale=True)\n",
    "        start += 10\n",
    "        f.close()\n",
    "    except:\n",
    "        print(num_photo)\n",
    "        pass\n",
    "print(start)"
   ]
  },
  {
   "cell_type": "code",
   "execution_count": 45,
   "metadata": {},
   "outputs": [
    {
     "name": "stdout",
     "output_type": "stream",
     "text": [
      "0\n",
      "20\n",
      "21\n",
      "27\n",
      "28\n",
      "29\n",
      "39\n",
      "40\n",
      "42\n",
      "66\n",
      "70\n",
      "71\n",
      "76\n",
      "88\n",
      "99\n"
     ]
    }
   ],
   "source": [
    "\n",
    "for num_photo in range(101):\n",
    "    try:\n",
    "        f = open('TXT/'+str(num_photo)+'.txt','r')\n",
    "        f_label.write('/content/gdrive/MyDrive/NTU/NN/report/YOLOv4/train_label/'+str(num_photo)+'.jpg\\n')\n",
    "        f.close()\n",
    "    except:\n",
    "        print(num_photo)\n",
    "        pass\n",
    "f_label.close()"
   ]
  },
  {
   "cell_type": "code",
   "execution_count": 49,
   "metadata": {},
   "outputs": [
    {
     "name": "stdout",
     "output_type": "stream",
     "text": [
      "106\n",
      "110\n"
     ]
    }
   ],
   "source": [
    "\n",
    "for num_photo in range(101,121):\n",
    "    try:\n",
    "        f = open('TXT/'+str(num_photo)+'.txt','r')\n",
    "        f_label.write('/content/gdrive/MyDrive/NTU/NN/report/YOLOv4/test_label/'+str(num_photo)+'.jpg\\n')\n",
    "        f.close()\n",
    "    except:\n",
    "        print(num_photo)\n",
    "        pass\n",
    "f_label.close()"
   ]
  },
  {
   "cell_type": "code",
   "execution_count": 48,
   "metadata": {},
   "outputs": [
    {
     "name": "stdout",
     "output_type": "stream",
     "text": [
      "106\n",
      "110\n"
     ]
    }
   ],
   "source": [
    "start = 1028\n",
    "f_label = open('YOLOv4/test_path.txt','w')\n",
    "for num_photo in range(101,121):\n",
    "    try:\n",
    "        f = open('TXT/'+str(num_photo)+'.txt','r')\n",
    "        contant = []\n",
    "        for i in f:\n",
    "            contant.append(i)\n",
    "        for add_txt in range(10):\n",
    "            f_add = open('YOLOv4/test_label/'+str(num_photo+add_txt+start)+'.txt','w')\n",
    "            for i in contant:\n",
    "                f_add.write(i)\n",
    "            f_add.close()\n",
    "            f_label.write('/content/gdrive/MyDrive/NTU/NN/report/YOLOv4/test_label/'+str(num_photo+add_txt+start)+'.jpg\\n')\n",
    "            img = image.load_img('YOLOv4/photo1500/'+str(num_photo+add_txt+start)+'.jpg', target_size=(1500, 1500))\n",
    "            image.save_img('YOLOv4/test_label/'+str(num_photo+add_txt+start)+'.jpg',img,  scale=True)\n",
    "        start += 10\n",
    "        f.close()\n",
    "    except:\n",
    "        print(num_photo)\n",
    "        pass"
   ]
  },
  {
   "cell_type": "code",
   "execution_count": 31,
   "metadata": {
    "scrolled": true
   },
   "outputs": [
    {
     "name": "stderr",
     "output_type": "stream",
     "text": [
      "Using TensorFlow backend.\n",
      "c:\\users\\user\\appdata\\local\\programs\\python\\python37\\lib\\site-packages\\tensorflow\\python\\framework\\dtypes.py:516: FutureWarning: Passing (type, 1) or '1type' as a synonym of type is deprecated; in a future version of numpy, it will be understood as (type, (1,)) / '(1,)type'.\n",
      "  _np_qint8 = np.dtype([(\"qint8\", np.int8, 1)])\n",
      "c:\\users\\user\\appdata\\local\\programs\\python\\python37\\lib\\site-packages\\tensorflow\\python\\framework\\dtypes.py:517: FutureWarning: Passing (type, 1) or '1type' as a synonym of type is deprecated; in a future version of numpy, it will be understood as (type, (1,)) / '(1,)type'.\n",
      "  _np_quint8 = np.dtype([(\"quint8\", np.uint8, 1)])\n",
      "c:\\users\\user\\appdata\\local\\programs\\python\\python37\\lib\\site-packages\\tensorflow\\python\\framework\\dtypes.py:518: FutureWarning: Passing (type, 1) or '1type' as a synonym of type is deprecated; in a future version of numpy, it will be understood as (type, (1,)) / '(1,)type'.\n",
      "  _np_qint16 = np.dtype([(\"qint16\", np.int16, 1)])\n",
      "c:\\users\\user\\appdata\\local\\programs\\python\\python37\\lib\\site-packages\\tensorflow\\python\\framework\\dtypes.py:519: FutureWarning: Passing (type, 1) or '1type' as a synonym of type is deprecated; in a future version of numpy, it will be understood as (type, (1,)) / '(1,)type'.\n",
      "  _np_quint16 = np.dtype([(\"quint16\", np.uint16, 1)])\n",
      "c:\\users\\user\\appdata\\local\\programs\\python\\python37\\lib\\site-packages\\tensorflow\\python\\framework\\dtypes.py:520: FutureWarning: Passing (type, 1) or '1type' as a synonym of type is deprecated; in a future version of numpy, it will be understood as (type, (1,)) / '(1,)type'.\n",
      "  _np_qint32 = np.dtype([(\"qint32\", np.int32, 1)])\n",
      "c:\\users\\user\\appdata\\local\\programs\\python\\python37\\lib\\site-packages\\tensorflow\\python\\framework\\dtypes.py:525: FutureWarning: Passing (type, 1) or '1type' as a synonym of type is deprecated; in a future version of numpy, it will be understood as (type, (1,)) / '(1,)type'.\n",
      "  np_resource = np.dtype([(\"resource\", np.ubyte, 1)])\n",
      "c:\\users\\user\\appdata\\local\\programs\\python\\python37\\lib\\site-packages\\tensorboard\\compat\\tensorflow_stub\\dtypes.py:541: FutureWarning: Passing (type, 1) or '1type' as a synonym of type is deprecated; in a future version of numpy, it will be understood as (type, (1,)) / '(1,)type'.\n",
      "  _np_qint8 = np.dtype([(\"qint8\", np.int8, 1)])\n",
      "c:\\users\\user\\appdata\\local\\programs\\python\\python37\\lib\\site-packages\\tensorboard\\compat\\tensorflow_stub\\dtypes.py:542: FutureWarning: Passing (type, 1) or '1type' as a synonym of type is deprecated; in a future version of numpy, it will be understood as (type, (1,)) / '(1,)type'.\n",
      "  _np_quint8 = np.dtype([(\"quint8\", np.uint8, 1)])\n",
      "c:\\users\\user\\appdata\\local\\programs\\python\\python37\\lib\\site-packages\\tensorboard\\compat\\tensorflow_stub\\dtypes.py:543: FutureWarning: Passing (type, 1) or '1type' as a synonym of type is deprecated; in a future version of numpy, it will be understood as (type, (1,)) / '(1,)type'.\n",
      "  _np_qint16 = np.dtype([(\"qint16\", np.int16, 1)])\n",
      "c:\\users\\user\\appdata\\local\\programs\\python\\python37\\lib\\site-packages\\tensorboard\\compat\\tensorflow_stub\\dtypes.py:544: FutureWarning: Passing (type, 1) or '1type' as a synonym of type is deprecated; in a future version of numpy, it will be understood as (type, (1,)) / '(1,)type'.\n",
      "  _np_quint16 = np.dtype([(\"quint16\", np.uint16, 1)])\n",
      "c:\\users\\user\\appdata\\local\\programs\\python\\python37\\lib\\site-packages\\tensorboard\\compat\\tensorflow_stub\\dtypes.py:545: FutureWarning: Passing (type, 1) or '1type' as a synonym of type is deprecated; in a future version of numpy, it will be understood as (type, (1,)) / '(1,)type'.\n",
      "  _np_qint32 = np.dtype([(\"qint32\", np.int32, 1)])\n",
      "c:\\users\\user\\appdata\\local\\programs\\python\\python37\\lib\\site-packages\\tensorboard\\compat\\tensorflow_stub\\dtypes.py:550: FutureWarning: Passing (type, 1) or '1type' as a synonym of type is deprecated; in a future version of numpy, it will be understood as (type, (1,)) / '(1,)type'.\n",
      "  np_resource = np.dtype([(\"resource\", np.ubyte, 1)])\n"
     ]
    },
    {
     "data": {
      "image/png": "[encoded data removed]",
      "text/plain": [
       "<PIL.Image.Image image mode=RGB size=300x300 at 0x187D76E5E48>"
      ]
     },
     "execution_count": 31,
     "metadata": {},
     "output_type": "execute_result"
    }
   ],
   "source": [
    "from keras.preprocessing import image"
   ]
  },
  {
   "cell_type": "code",
   "execution_count": 32,
   "metadata": {},
   "outputs": [],
   "source": [
    "img = image.load_img('YOLOv4/photo1500/1.jpg', target_size=(300, 300))\n",
    "image.save_img('YOLOv4/train_label/1.jpg',img,  scale=True)"
   ]
  },
  {
   "cell_type": "code",
   "execution_count": null,
   "metadata": {},
   "outputs": [],
   "source": [
    "start = 168\n",
    "f_label = open('YOLOv4/train_path.txt','w')\n",
    "for num_photo in range(101):\n",
    "    try:\n",
    "        f = open('TXT/'+str(num_photo)+'.txt','r')\n",
    "        contant = []\n",
    "        for i in f:\n",
    "            contant.append(i)\n",
    "        for add_txt in range(10):\n",
    "            f_add = open('YOLOv4/train_label/'+str(num_photo+add_txt+start)+'.txt','w')\n",
    "            for i in contant:\n",
    "                f_add.write(i)\n",
    "            f_add.close()\n",
    "            f_label.write('/content/gdrive/MyDrive/NTU/NN/report/photo1500/'+str(num_photo+add_txt+start)+'.jpg\\n')\n",
    "        start += 10\n",
    "        f.close()\n",
    "    except:\n",
    "        print(num_photo)\n",
    "        pass\n",
    "print(start)\n",
    "f_label.close()"
   ]
  },
  {
   "cell_type": "code",
   "execution_count": null,
   "metadata": {},
   "outputs": [],
   "source": [
    "0,20,21,27,39,40,42,66,70,71,76,88"
   ]
  }
 ],
 "metadata": {
  "kernelspec": {
   "display_name": "Python 3",
   "language": "python",
   "name": "python3"
  },
  "language_info": {
   "codemirror_mode": {
    "name": "ipython",
    "version": 3
   },
   "file_extension": ".py",
   "mimetype": "text/x-python",
   "name": "python",
   "nbconvert_exporter": "python",
   "pygments_lexer": "ipython3",
   "version": "3.7.5"
  }
 },
 "nbformat": 4,
 "nbformat_minor": 4
}
